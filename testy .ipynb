{
 "cells": [
  {
   "cell_type": "code",
   "execution_count": 16,
   "metadata": {},
   "outputs": [],
   "source": [
    "import urllib.request\n",
    "import gzip\n",
    "import json\n"
   ]
  },
  {
   "cell_type": "code",
   "execution_count": 17,
   "metadata": {},
   "outputs": [],
   "source": [
    "\n",
    "url = 'https://atlantides.org/downloads/pleiades/json/pleiades-places-latest.json.gz'  ## This url could change\n",
    "output_file = './data/raw/pleiades-places-latest.json'\n",
    "\n",
    "# Download the compressed JSON file\n",
    "urllib.request.urlretrieve(url, './data/raw/pleiades-places-latest.json.gz')\n",
    "\n",
    "# Decompress the file and save the JSON data\n",
    "with gzip.open('./data/raw/pleiades-places-latest.json.gz', 'rb') as f_in:\n",
    "    with open(output_file, 'wb') as f_out:\n",
    "        f_out.write(f_in.read())\n"
   ]
  },
  {
   "cell_type": "code",
   "execution_count": 20,
   "metadata": {},
   "outputs": [],
   "source": [
    "with open('data/raw/pleiades-places-latest.json', 'r', encoding='utf-8') as file:\n",
    "    data = json.load(file)\n"
   ]
  },
  {
   "cell_type": "code",
   "execution_count": 21,
   "metadata": {},
   "outputs": [
    {
     "name": "stdout",
     "output_type": "stream",
     "text": [
      "{'snippet': 'dcterms:abstract', 'rights': 'dcterms:rights', 'description': 'dcterms:description', 'title': 'dcterms:title', 'dcterms': 'http://purl.org/dc/terms/', 'subject': 'dcterms:subject', 'uri': '@id', 'created': 'dcterms:created'}\n"
     ]
    }
   ],
   "source": [
    "print(data['@context'])"
   ]
  },
  {
   "cell_type": "code",
   "execution_count": 23,
   "metadata": {},
   "outputs": [],
   "source": [
    "graph = data['@graph']"
   ]
  }
 ],
 "metadata": {
  "kernelspec": {
   "display_name": "Python 3",
   "language": "python",
   "name": "python3"
  },
  "language_info": {
   "codemirror_mode": {
    "name": "ipython",
    "version": 3
   },
   "file_extension": ".py",
   "mimetype": "text/x-python",
   "name": "python",
   "nbconvert_exporter": "python",
   "pygments_lexer": "ipython3",
   "version": "3.11.0"
  }
 },
 "nbformat": 4,
 "nbformat_minor": 2
}
