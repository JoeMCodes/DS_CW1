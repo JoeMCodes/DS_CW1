{
 "cells": [
  {
   "cell_type": "code",
   "execution_count": 11,
   "metadata": {},
   "outputs": [],
   "source": [
    "import pandas as pd\n"
   ]
  },
  {
   "cell_type": "code",
   "execution_count": 12,
   "metadata": {},
   "outputs": [],
   "source": [
    "settlement_df = pd.read_csv(r'data/derived/settlement_df.csv')"
   ]
  },
  {
   "cell_type": "code",
   "execution_count": 13,
   "metadata": {},
   "outputs": [
    {
     "data": {
      "text/html": [
       "<div>\n",
       "<style scoped>\n",
       "    .dataframe tbody tr th:only-of-type {\n",
       "        vertical-align: middle;\n",
       "    }\n",
       "\n",
       "    .dataframe tbody tr th {\n",
       "        vertical-align: top;\n",
       "    }\n",
       "\n",
       "    .dataframe thead th {\n",
       "        text-align: right;\n",
       "    }\n",
       "</style>\n",
       "<table border=\"1\" class=\"dataframe\">\n",
       "  <thead>\n",
       "    <tr style=\"text-align: right;\">\n",
       "      <th></th>\n",
       "      <th>id</th>\n",
       "      <th>coordinate</th>\n",
       "      <th>Start_Date</th>\n",
       "      <th>End_Date</th>\n",
       "    </tr>\n",
       "  </thead>\n",
       "  <tbody>\n",
       "    <tr>\n",
       "      <th>0</th>\n",
       "      <td>48210385</td>\n",
       "      <td>[13.4119837, 42.082885]</td>\n",
       "      <td>640.0</td>\n",
       "      <td>1453.0</td>\n",
       "    </tr>\n",
       "    <tr>\n",
       "      <th>1</th>\n",
       "      <td>265876</td>\n",
       "      <td>[-3.606772, 39.460299]</td>\n",
       "      <td>-330.0</td>\n",
       "      <td>640.0</td>\n",
       "    </tr>\n",
       "    <tr>\n",
       "      <th>2</th>\n",
       "      <td>265880</td>\n",
       "      <td>[0.107511, 38.842795]</td>\n",
       "      <td>-550.0</td>\n",
       "      <td>640.0</td>\n",
       "    </tr>\n",
       "    <tr>\n",
       "      <th>3</th>\n",
       "      <td>265882</td>\n",
       "      <td>[-3.924959, 37.463838]</td>\n",
       "      <td>-30.0</td>\n",
       "      <td>300.0</td>\n",
       "    </tr>\n",
       "    <tr>\n",
       "      <th>4</th>\n",
       "      <td>265883</td>\n",
       "      <td>[1.432146, 38.908393]</td>\n",
       "      <td>-750.0</td>\n",
       "      <td>640.0</td>\n",
       "    </tr>\n",
       "  </tbody>\n",
       "</table>\n",
       "</div>"
      ],
      "text/plain": [
       "         id               coordinate  Start_Date  End_Date\n",
       "0  48210385  [13.4119837, 42.082885]       640.0    1453.0\n",
       "1    265876   [-3.606772, 39.460299]      -330.0     640.0\n",
       "2    265880    [0.107511, 38.842795]      -550.0     640.0\n",
       "3    265882   [-3.924959, 37.463838]       -30.0     300.0\n",
       "4    265883    [1.432146, 38.908393]      -750.0     640.0"
      ]
     },
     "execution_count": 13,
     "metadata": {},
     "output_type": "execute_result"
    }
   ],
   "source": [
    "settlement_df.head()"
   ]
  },
  {
   "cell_type": "code",
   "execution_count": 15,
   "metadata": {},
   "outputs": [
    {
     "data": {
      "text/html": [
       "<div>\n",
       "<style scoped>\n",
       "    .dataframe tbody tr th:only-of-type {\n",
       "        vertical-align: middle;\n",
       "    }\n",
       "\n",
       "    .dataframe tbody tr th {\n",
       "        vertical-align: top;\n",
       "    }\n",
       "\n",
       "    .dataframe thead th {\n",
       "        text-align: right;\n",
       "    }\n",
       "</style>\n",
       "<table border=\"1\" class=\"dataframe\">\n",
       "  <thead>\n",
       "    <tr style=\"text-align: right;\">\n",
       "      <th></th>\n",
       "      <th>id</th>\n",
       "      <th>coordinate</th>\n",
       "      <th>Start_Date</th>\n",
       "      <th>End_Date</th>\n",
       "    </tr>\n",
       "  </thead>\n",
       "  <tbody>\n",
       "    <tr>\n",
       "      <th>1</th>\n",
       "      <td>265876</td>\n",
       "      <td>[-3.606772, 39.460299]</td>\n",
       "      <td>-330.0</td>\n",
       "      <td>640.0</td>\n",
       "    </tr>\n",
       "    <tr>\n",
       "      <th>2</th>\n",
       "      <td>265880</td>\n",
       "      <td>[0.107511, 38.842795]</td>\n",
       "      <td>-550.0</td>\n",
       "      <td>640.0</td>\n",
       "    </tr>\n",
       "    <tr>\n",
       "      <th>3</th>\n",
       "      <td>265882</td>\n",
       "      <td>[-3.924959, 37.463838]</td>\n",
       "      <td>-30.0</td>\n",
       "      <td>300.0</td>\n",
       "    </tr>\n",
       "    <tr>\n",
       "      <th>4</th>\n",
       "      <td>265883</td>\n",
       "      <td>[1.432146, 38.908393]</td>\n",
       "      <td>-750.0</td>\n",
       "      <td>640.0</td>\n",
       "    </tr>\n",
       "    <tr>\n",
       "      <th>5</th>\n",
       "      <td>265886</td>\n",
       "      <td>[-3.362253, 38.640276]</td>\n",
       "      <td>-30.0</td>\n",
       "      <td>300.0</td>\n",
       "    </tr>\n",
       "  </tbody>\n",
       "</table>\n",
       "</div>"
      ],
      "text/plain": [
       "       id              coordinate  Start_Date  End_Date\n",
       "1  265876  [-3.606772, 39.460299]      -330.0     640.0\n",
       "2  265880   [0.107511, 38.842795]      -550.0     640.0\n",
       "3  265882  [-3.924959, 37.463838]       -30.0     300.0\n",
       "4  265883   [1.432146, 38.908393]      -750.0     640.0\n",
       "5  265886  [-3.362253, 38.640276]       -30.0     300.0"
      ]
     },
     "execution_count": 15,
     "metadata": {},
     "output_type": "execute_result"
    }
   ],
   "source": [
    "Jesus_df = settlement_df[(settlement_df['Start_Date']<0) & (settlement_df['End_Date']>0)]\n",
    "Jesus_df.head()"
   ]
  },
  {
   "cell_type": "code",
   "execution_count": 24,
   "metadata": {},
   "outputs": [
    {
     "name": "stdout",
     "output_type": "stream",
     "text": [
      "[[3.1217414, 39.8502645], [3.1214456, 39.8506397], [3.120874, 39.8503256], [3.1205315, 39.8507462], [3.1207965, 39.8508744], [3.1208406, 39.8509548], [3.1207761, 39.8509521], [3.120725, 39.85095], [3.120412, 39.850975], [3.1202753, 39.8510232], [3.120188, 39.8510884], [3.1199906, 39.8513501], [3.1196246, 39.8511768], [3.1195675, 39.8510343], [3.1210718, 39.8492183], [3.1214206, 39.8485793], [3.1219915, 39.8477241], [3.1221553, 39.84759], [3.1222593, 39.8476213], [3.1224963, 39.8477151], [3.1225143, 39.847692], [3.1225323, 39.8476983], [3.1225589, 39.8476537], [3.1225416, 39.8476476], [3.1225769, 39.8475883], [3.1226734, 39.8474482], [3.1231513, 39.8471007], [3.1240735, 39.8464303], [3.124941, 39.8467943], [3.1267381, 39.8469176], [3.1267271, 39.8471845], [3.1266733, 39.8473727], [3.1265857, 39.8474621], [3.1263824, 39.8476601], [3.1266934, 39.8478646], [3.1266816, 39.8478805], [3.1266609, 39.8478983], [3.1262292, 39.8475971], [3.125897, 39.8472335], [3.1253957, 39.8471629], [3.1248616, 39.8475268], [3.1243563, 39.8477323], [3.1238888, 39.8481042], [3.1237078, 39.8485434], [3.1234382, 39.8489489], [3.1231008, 39.849014], [3.1229023, 39.8496023], [3.1226502, 39.8496686], [3.1217414, 39.8502645]]\n"
     ]
    }
   ],
   "source": [
    "c = Jesus_df[Jesus_df['id'] == 266004].iloc[0,1]\n",
    "print(c)\n",
    "\n",
    "c2 = Jesus_df[Jesus_df['id'] == 277845].iloc[0,1]\n",
    "\n",
    "### THE COORDS ARE STR HERE, LISTS WHEN WE GET IN THE EXTARCT FUNC MAYBE THINK ABOUT GETTING REP COORD THERE;"
   ]
  }
 ],
 "metadata": {
  "kernelspec": {
   "display_name": "Python 3",
   "language": "python",
   "name": "python3"
  },
  "language_info": {
   "codemirror_mode": {
    "name": "ipython",
    "version": 3
   },
   "file_extension": ".py",
   "mimetype": "text/x-python",
   "name": "python",
   "nbconvert_exporter": "python",
   "pygments_lexer": "ipython3",
   "version": "3.11.0"
  }
 },
 "nbformat": 4,
 "nbformat_minor": 2
}
